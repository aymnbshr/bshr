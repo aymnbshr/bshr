{
 "cells": [
  {
   "cell_type": "code",
   "execution_count": 1,
   "id": "04ddc6ec",
   "metadata": {},
   "outputs": [
    {
     "name": "stdout",
     "output_type": "stream",
     "text": [
      "*\t*\t*\t*\t\n",
      "*\t*\t*\t*\t\n",
      "*\t*\t*\t*\t\n",
      "*\t*\t*\t*\t\n"
     ]
    }
   ],
   "source": [
    "import random\n",
    "\n",
    "class MemoryGame:\n",
    "    def __init__(self):  # تصحيح هنا\n",
    "        self.cards = self.create_cards()\n",
    "        self.flipped_cards = []\n",
    "        self.matched_pairs = 0\n",
    "\n",
    "    def create_cards(self):\n",
    "        \"\"\"Create and shuffle a deck of cards.\"\"\"\n",
    "        card_values = list(range(8)) * 2  # 8 pairs of cards\n",
    "        random.shuffle(card_values)\n",
    "        return card_values\n",
    "\n",
    "    def display_cards(self):\n",
    "        \"\"\"Display the current state of the cards.\"\"\"\n",
    "        for i in range(4):\n",
    "            for j in range(4):\n",
    "                index = i * 4 + j\n",
    "                if index in self.flipped_cards:\n",
    "                    print(self.cards[index], end='\\t')\n",
    "                else:\n",
    "                    print('*', end='\\t')\n",
    "            print()\n",
    "\n",
    "    def flip_card(self, index):\n",
    "        \"\"\"Flip a card.\"\"\"\n",
    "        if index not in self.flipped_cards:\n",
    "            self.flipped_cards.append(index)\n",
    "\n",
    "    def check_match(self):\n",
    "        \"\"\"Check if the flipped cards match.\"\"\"\n",
    "        if len(self.flipped_cards) == 2:\n",
    "            first_value = self.cards[self.flipped_cards[0]]\n",
    "            second_value = self.cards[self.flipped_cards[1]]\n",
    "            if first_value == second_value:\n",
    "                self.matched_pairs += 1\n",
    "                print(\"It's a match!\")\n",
    "            else:\n",
    "                print(\"Not a match.\")\n",
    "            self.flipped_cards = []\n",
    "\n",
    "    def play(self):\n",
    "        \"\"\"Start the game loop.\"\"\"\n",
    "        while self.matched_pairs < 8:\n",
    "            self.display_cards()\n",
    "            try:\n",
    "                choice = int(input(\"Choose a card to flip (0-15): \"))  # 16 cards\n",
    "                self.flip_card(choice)\n",
    "                self.check_match()\n",
    "            except (ValueError, IndexError):\n",
    "                print(\"Invalid choice. Please choose a number between 0 and 15.\")\n",
    "        \n",
    "        print(\"Congratulations! You've matched all pairs!\")\n",
    "\n",
    "if __name__ == \"__main__\":\n",
    "    game = MemoryGame()\n",
    "    game.play()"
   ]
  },
  {
   "cell_type": "code",
   "execution_count": null,
   "id": "dd16de6d",
   "metadata": {},
   "outputs": [],
   "source": []
  }
 ],
 "metadata": {
  "kernelspec": {
   "display_name": "Python 3 (ipykernel)",
   "language": "python",
   "name": "python3"
  },
  "language_info": {
   "codemirror_mode": {
    "name": "ipython",
    "version": 3
   },
   "file_extension": ".py",
   "mimetype": "text/x-python",
   "name": "python",
   "nbconvert_exporter": "python",
   "pygments_lexer": "ipython3",
   "version": "3.12.5"
  }
 },
 "nbformat": 4,
 "nbformat_minor": 5
}
